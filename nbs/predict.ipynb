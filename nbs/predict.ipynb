{
 "cells": [
  {
   "cell_type": "code",
   "execution_count": 1,
   "id": "expensive-lloyd",
   "metadata": {},
   "outputs": [],
   "source": [
    "import argparse\n",
    "import copy\n",
    "from pathlib import Path\n",
    "\n",
    "import numpy as np\n",
    "import pandas as pd\n",
    "import torch\n",
    "from sklearn.metrics import roc_auc_score\n",
    "\n",
    "from ml import learner, data\n",
    "from ml.vision import utils\n",
    "from pipe import constants, augmentations"
   ]
  },
  {
   "cell_type": "code",
   "execution_count": 2,
   "id": "applied-death",
   "metadata": {},
   "outputs": [],
   "source": [
    "test = pd.read_csv(constants.sample_submission_fpath)\n",
    "train = pd.read_csv(constants.train_folds_fpath)"
   ]
  },
  {
   "cell_type": "code",
   "execution_count": 4,
   "id": "moved-exception",
   "metadata": {},
   "outputs": [
    {
     "data": {
      "text/plain": [
       "[PosixPath('/home/gianluca/git/kaggle/ranzcr/data/test_256/1.2.826.0.1.3680043.8.498.46923145579096002617106567297135160932.jpg'),\n",
       " PosixPath('/home/gianluca/git/kaggle/ranzcr/data/test_256/1.2.826.0.1.3680043.8.498.84006870182611080091824109767561564887.jpg'),\n",
       " PosixPath('/home/gianluca/git/kaggle/ranzcr/data/test_256/1.2.826.0.1.3680043.8.498.12219033294413119947515494720687541672.jpg'),\n",
       " PosixPath('/home/gianluca/git/kaggle/ranzcr/data/test_256/1.2.826.0.1.3680043.8.498.84994474380235968109906845540706092671.jpg'),\n",
       " PosixPath('/home/gianluca/git/kaggle/ranzcr/data/test_256/1.2.826.0.1.3680043.8.498.35798987793805669662572108881745201372.jpg')]"
      ]
     },
     "execution_count": 4,
     "metadata": {},
     "output_type": "execute_result"
    }
   ],
   "source": [
    "test_image_paths = [\n",
    "    constants.data_path / f\"test_256/{x}.jpg\" for x in test.StudyInstanceUID.values\n",
    "]\n",
    "test_image_paths[:5]"
   ]
  },
  {
   "cell_type": "code",
   "execution_count": 5,
   "id": "final-press",
   "metadata": {},
   "outputs": [
    {
     "data": {
      "text/plain": [
       "[PosixPath('/home/gianluca/git/kaggle/ranzcr/data/train_256/1.2.826.0.1.3680043.8.498.10980236531551060314989711662517682573.jpg'),\n",
       " PosixPath('/home/gianluca/git/kaggle/ranzcr/data/train_256/1.2.826.0.1.3680043.8.498.31644041654883936177483097186069054689.jpg'),\n",
       " PosixPath('/home/gianluca/git/kaggle/ranzcr/data/train_256/1.2.826.0.1.3680043.8.498.92698499133241834162015009420418179750.jpg'),\n",
       " PosixPath('/home/gianluca/git/kaggle/ranzcr/data/train_256/1.2.826.0.1.3680043.8.498.10069138128460654269681788885297696718.jpg'),\n",
       " PosixPath('/home/gianluca/git/kaggle/ranzcr/data/train_256/1.2.826.0.1.3680043.8.498.10994992736051720791598262985362954566.jpg')]"
      ]
     },
     "execution_count": 5,
     "metadata": {},
     "output_type": "execute_result"
    }
   ],
   "source": [
    "train_image_paths = [\n",
    "    constants.data_path / f\"train_256/{x}.jpg\" for x in train.StudyInstanceUID.values\n",
    "]\n",
    "train_image_paths[:5]"
   ]
  },
  {
   "cell_type": "markdown",
   "id": "dominant-triangle",
   "metadata": {},
   "source": [
    "## Predict on training set"
   ]
  },
  {
   "cell_type": "code",
   "execution_count": 5,
   "id": "existing-ethernet",
   "metadata": {},
   "outputs": [],
   "source": [
    "checkpoint_path = Path('../models/arch=resnest14d_sz=128_fold=0.ckpt')\n",
    "pretrained_model = learner.ImageClassifier.load_from_checkpoint(\n",
    "    checkpoint_path, in_channels=1, num_classes=11\n",
    ")\n",
    "pretrained_model.freeze()"
   ]
  },
  {
   "cell_type": "code",
   "execution_count": 6,
   "id": "integral-mobile",
   "metadata": {},
   "outputs": [
    {
     "data": {
      "text/plain": [
       "tensor([[[-0.3436, -0.5128, -0.4899],\n",
       "         [-0.3492, -0.3446, -0.2687],\n",
       "         [-0.3731, -0.2343, -0.2341]]])"
      ]
     },
     "execution_count": 6,
     "metadata": {},
     "output_type": "execute_result"
    }
   ],
   "source": [
    "list(pretrained_model.parameters())[0][0]"
   ]
  },
  {
   "cell_type": "code",
   "execution_count": 11,
   "id": "roman-welcome",
   "metadata": {},
   "outputs": [
    {
     "data": {
      "text/plain": [
       "tensor([[[-0.3436, -0.5128, -0.4899],\n",
       "         [-0.3492, -0.3446, -0.2687],\n",
       "         [-0.3731, -0.2343, -0.2341]]], device='cuda:0')"
      ]
     },
     "execution_count": 11,
     "metadata": {},
     "output_type": "execute_result"
    }
   ],
   "source": [
    "list(pretrained_model.model.parameters())[0][0]"
   ]
  },
  {
   "cell_type": "code",
   "execution_count": 7,
   "id": "bacterial-foundation",
   "metadata": {},
   "outputs": [],
   "source": [
    "hparams = argparse.Namespace(\n",
    "    arch='resnest14d',\n",
    "    sz=128,\n",
    "    test_data=Path('../data/train_256'),\n",
    "    aug='baseline'\n",
    ")\n",
    "\n",
    "train_aug, valid_aug, test_aug = augmentations.augmentations_factory(hparams)\n",
    "\n",
    "dm = data.ImageDataModule(\n",
    "    batch_size=256,\n",
    "    test_image_paths=train_image_paths,\n",
    "    test_augmentations=test_aug,\n",
    ")\n",
    "dm.setup()\n",
    "\n",
    "outs = list(pretrained_model.predict_proba(dm.test_dataloader))\n",
    "preds = np.vstack(outs)\n",
    "\n",
    "train_preds = copy.copy(train)\n",
    "train_preds[constants.target_cols] = preds"
   ]
  },
  {
   "cell_type": "code",
   "execution_count": 8,
   "id": "moved-exploration",
   "metadata": {},
   "outputs": [
    {
     "data": {
      "text/plain": [
       "ETT - Abnormal                0.003749\n",
       "ETT - Borderline              0.046870\n",
       "ETT - Normal                  0.230857\n",
       "NGT - Abnormal                0.010472\n",
       "NGT - Borderline              0.025475\n",
       "NGT - Incompletely Imaged     0.074746\n",
       "NGT - Normal                  0.177242\n",
       "CVC - Abnormal                0.093819\n",
       "CVC - Borderline              0.244747\n",
       "CVC - Normal                  0.727748\n",
       "Swan Ganz Catheter Present    0.027688\n",
       "dtype: float64"
      ]
     },
     "execution_count": 8,
     "metadata": {},
     "output_type": "execute_result"
    }
   ],
   "source": [
    "train_preds[constants.target_cols].mean()"
   ]
  },
  {
   "cell_type": "code",
   "execution_count": 9,
   "id": "blond-slovak",
   "metadata": {},
   "outputs": [
    {
     "data": {
      "text/plain": [
       "ETT - Abnormal                0.002626\n",
       "ETT - Borderline              0.037829\n",
       "ETT - Normal                  0.240667\n",
       "NGT - Abnormal                0.009274\n",
       "NGT - Borderline              0.017585\n",
       "NGT - Incompletely Imaged     0.091347\n",
       "NGT - Normal                  0.159459\n",
       "CVC - Abnormal                0.106206\n",
       "CVC - Borderline              0.281222\n",
       "CVC - Normal                  0.708839\n",
       "Swan Ganz Catheter Present    0.027590\n",
       "dtype: float64"
      ]
     },
     "execution_count": 9,
     "metadata": {},
     "output_type": "execute_result"
    }
   ],
   "source": [
    "train[constants.target_cols].mean()"
   ]
  },
  {
   "cell_type": "code",
   "execution_count": 10,
   "id": "electrical-disco",
   "metadata": {},
   "outputs": [
    {
     "data": {
      "text/plain": [
       "0.9136993636159523"
      ]
     },
     "execution_count": 10,
     "metadata": {},
     "output_type": "execute_result"
    }
   ],
   "source": [
    "from sklearn.metrics import roc_auc_score\n",
    "roc_auc_score(\n",
    "    y_true=train[constants.target_cols].values,\n",
    "    y_score=train_preds[constants.target_cols].values,\n",
    "    average='macro'\n",
    ")"
   ]
  },
  {
   "cell_type": "markdown",
   "id": "lucky-narrative",
   "metadata": {},
   "source": [
    "## Predict on test set"
   ]
  },
  {
   "cell_type": "code",
   "execution_count": 10,
   "id": "hairy-thanksgiving",
   "metadata": {},
   "outputs": [
    {
     "data": {
      "text/plain": [
       "ETT - Abnormal                0.001762\n",
       "ETT - Borderline              0.019948\n",
       "ETT - Normal                  0.104933\n",
       "NGT - Abnormal                0.006625\n",
       "NGT - Borderline              0.014579\n",
       "NGT - Incompletely Imaged     0.033990\n",
       "NGT - Normal                  0.085848\n",
       "CVC - Abnormal                0.080980\n",
       "CVC - Borderline              0.231591\n",
       "CVC - Normal                  0.736716\n",
       "Swan Ganz Catheter Present    0.011959\n",
       "dtype: float64"
      ]
     },
     "execution_count": 10,
     "metadata": {},
     "output_type": "execute_result"
    }
   ],
   "source": [
    "hparams = argparse.Namespace(\n",
    "    arch='resnest14d',\n",
    "    sz=128,\n",
    "    test_data=Path('../data/test_256'),\n",
    "    aug='baseline'\n",
    ")\n",
    "\n",
    "train_aug, valid_aug, test_aug = augmentations.augmentations_factory(hparams)\n",
    "\n",
    "dm = data.ImageDataModule(\n",
    "    batch_size=256,\n",
    "    test_image_paths=test_image_paths,\n",
    "    test_augmentations=test_aug,\n",
    ")\n",
    "dm.setup()\n",
    "\n",
    "outs = list(pretrained_model.predict_proba(dm.test_dataloader))\n",
    "preds = np.vstack(outs)\n",
    "\n",
    "test_preds = copy.copy(test)\n",
    "test_preds[constants.target_cols] = preds\n",
    "test_preds[constants.target_cols].mean()"
   ]
  },
  {
   "cell_type": "markdown",
   "id": "expensive-visibility",
   "metadata": {},
   "source": [
    "## Train target distribution"
   ]
  },
  {
   "cell_type": "code",
   "execution_count": 11,
   "id": "informed-trunk",
   "metadata": {},
   "outputs": [
    {
     "data": {
      "text/plain": [
       "ETT - Abnormal                0.002626\n",
       "ETT - Borderline              0.037829\n",
       "ETT - Normal                  0.240667\n",
       "NGT - Abnormal                0.009274\n",
       "NGT - Borderline              0.017585\n",
       "NGT - Incompletely Imaged     0.091347\n",
       "NGT - Normal                  0.159459\n",
       "CVC - Abnormal                0.106206\n",
       "CVC - Borderline              0.281222\n",
       "CVC - Normal                  0.708839\n",
       "Swan Ganz Catheter Present    0.027590\n",
       "dtype: float64"
      ]
     },
     "execution_count": 11,
     "metadata": {},
     "output_type": "execute_result"
    }
   ],
   "source": [
    "train[constants.target_cols].mean()"
   ]
  },
  {
   "cell_type": "markdown",
   "id": "integrated-present",
   "metadata": {},
   "source": [
    "## Replicate best scores for each fold"
   ]
  },
  {
   "cell_type": "code",
   "execution_count": 3,
   "id": "weird-brazilian",
   "metadata": {},
   "outputs": [],
   "source": [
    "train_preds = copy.copy(train)\n",
    "ARCH     = 'rexnet_200'\n",
    "SZ       = 512\n",
    "SZ_INPUT = SZ * 2\n",
    "BS       = 16\n",
    "\n",
    "for fold in range(5):\n",
    "    checkpoint_path = Path(f'../models/arch={ARCH}_sz={SZ}_fold={fold}.ckpt')\n",
    "    pretrained_model = learner.ImageClassifier.load_from_checkpoint(\n",
    "        checkpoint_path, in_channels=1, num_classes=11\n",
    "    )\n",
    "    pretrained_model.freeze()\n",
    "    \n",
    "    hparams = argparse.Namespace(\n",
    "        arch=ARCH,\n",
    "        sz=SZ,\n",
    "        test_data=Path(f'../data/train_{SZ_INPUT}'),\n",
    "        aug='baseline'\n",
    "    )\n",
    "\n",
    "    train_aug, valid_aug, test_aug = augmentations.augmentations_factory(hparams)\n",
    "\n",
    "    valid_image_paths = [\n",
    "        constants.data_path / f\"train_{SZ_INPUT}/{x}.jpg\" for x in train[train.kfold==fold].StudyInstanceUID.values\n",
    "    ]\n",
    "    valid_image_paths[:5]\n",
    "    \n",
    "    dm = data.ImageDataModule(\n",
    "        batch_size=BS,\n",
    "        test_image_paths=valid_image_paths,\n",
    "        test_augmentations=valid_aug,\n",
    "    )\n",
    "    dm.setup()\n",
    "\n",
    "    outs = list(pretrained_model.predict_proba(dm.test_dataloader))\n",
    "    preds = np.vstack(outs)\n",
    "\n",
    "    break"
   ]
  },
  {
   "cell_type": "code",
   "execution_count": 4,
   "id": "billion-plastic",
   "metadata": {},
   "outputs": [
    {
     "data": {
      "text/plain": [
       "(6015, 11)"
      ]
     },
     "execution_count": 4,
     "metadata": {},
     "output_type": "execute_result"
    }
   ],
   "source": [
    "preds.shape"
   ]
  },
  {
   "cell_type": "code",
   "execution_count": 5,
   "id": "viral-biotechnology",
   "metadata": {},
   "outputs": [
    {
     "data": {
      "text/plain": [
       "0.8408216950745881"
      ]
     },
     "execution_count": 5,
     "metadata": {},
     "output_type": "execute_result"
    }
   ],
   "source": [
    "from sklearn.metrics import roc_auc_score\n",
    "roc_auc_score(\n",
    "    y_true=train[train.kfold==fold][constants.target_cols].values,\n",
    "    y_score=preds,\n",
    "    average='macro'\n",
    ")"
   ]
  },
  {
   "cell_type": "code",
   "execution_count": 28,
   "id": "covered-copyright",
   "metadata": {},
   "outputs": [
    {
     "data": {
      "text/plain": [
       "0.9491113828429192"
      ]
     },
     "execution_count": 28,
     "metadata": {},
     "output_type": "execute_result"
    }
   ],
   "source": [
    "from sklearn.metrics import roc_auc_score\n",
    "roc_auc_score(\n",
    "    y_true=train[train.kfold==fold][constants.target_cols].values,\n",
    "    y_score=preds,\n",
    "    average='macro'\n",
    ")"
   ]
  },
  {
   "cell_type": "code",
   "execution_count": 11,
   "id": "national-mexico",
   "metadata": {},
   "outputs": [
    {
     "data": {
      "text/plain": [
       "{'training': False,\n",
       " '_parameters': OrderedDict(),\n",
       " '_buffers': OrderedDict(),\n",
       " '_non_persistent_buffers_set': set(),\n",
       " '_backward_hooks': OrderedDict(),\n",
       " '_forward_hooks': OrderedDict(),\n",
       " '_forward_pre_hooks': OrderedDict(),\n",
       " '_state_dict_hooks': OrderedDict(),\n",
       " '_load_state_dict_pre_hooks': OrderedDict(),\n",
       " '_modules': OrderedDict([('model',\n",
       "               ReXNetV1(\n",
       "                 (stem): ConvBnAct(\n",
       "                   (conv): Conv2d(1, 64, kernel_size=(3, 3), stride=(2, 2), padding=(1, 1), bias=False)\n",
       "                   (bn): BatchNormAct2d(\n",
       "                     64, eps=1e-05, momentum=0.1, affine=True, track_running_stats=True\n",
       "                     (act): SiLU(inplace=True)\n",
       "                   )\n",
       "                 )\n",
       "                 (features): Sequential(\n",
       "                   (0): LinearBottleneck(\n",
       "                     (conv_dw): ConvBnAct(\n",
       "                       (conv): Conv2d(64, 64, kernel_size=(3, 3), stride=(1, 1), padding=(1, 1), groups=64, bias=False)\n",
       "                       (bn): BatchNormAct2d(64, eps=1e-05, momentum=0.1, affine=True, track_running_stats=True)\n",
       "                     )\n",
       "                     (act_dw): ReLU6()\n",
       "                     (conv_pwl): ConvBnAct(\n",
       "                       (conv): Conv2d(64, 32, kernel_size=(1, 1), stride=(1, 1), bias=False)\n",
       "                       (bn): BatchNormAct2d(32, eps=1e-05, momentum=0.1, affine=True, track_running_stats=True)\n",
       "                     )\n",
       "                   )\n",
       "                   (1): LinearBottleneck(\n",
       "                     (conv_exp): ConvBnAct(\n",
       "                       (conv): Conv2d(32, 192, kernel_size=(1, 1), stride=(1, 1), bias=False)\n",
       "                       (bn): BatchNormAct2d(\n",
       "                         192, eps=1e-05, momentum=0.1, affine=True, track_running_stats=True\n",
       "                         (act): SiLU(inplace=True)\n",
       "                       )\n",
       "                     )\n",
       "                     (conv_dw): ConvBnAct(\n",
       "                       (conv): Conv2d(192, 192, kernel_size=(3, 3), stride=(2, 2), padding=(1, 1), groups=192, bias=False)\n",
       "                       (bn): BatchNormAct2d(192, eps=1e-05, momentum=0.1, affine=True, track_running_stats=True)\n",
       "                     )\n",
       "                     (act_dw): ReLU6()\n",
       "                     (conv_pwl): ConvBnAct(\n",
       "                       (conv): Conv2d(192, 54, kernel_size=(1, 1), stride=(1, 1), bias=False)\n",
       "                       (bn): BatchNormAct2d(54, eps=1e-05, momentum=0.1, affine=True, track_running_stats=True)\n",
       "                     )\n",
       "                   )\n",
       "                   (2): LinearBottleneck(\n",
       "                     (conv_exp): ConvBnAct(\n",
       "                       (conv): Conv2d(54, 324, kernel_size=(1, 1), stride=(1, 1), bias=False)\n",
       "                       (bn): BatchNormAct2d(\n",
       "                         324, eps=1e-05, momentum=0.1, affine=True, track_running_stats=True\n",
       "                         (act): SiLU(inplace=True)\n",
       "                       )\n",
       "                     )\n",
       "                     (conv_dw): ConvBnAct(\n",
       "                       (conv): Conv2d(324, 324, kernel_size=(3, 3), stride=(1, 1), padding=(1, 1), groups=324, bias=False)\n",
       "                       (bn): BatchNormAct2d(324, eps=1e-05, momentum=0.1, affine=True, track_running_stats=True)\n",
       "                     )\n",
       "                     (act_dw): ReLU6()\n",
       "                     (conv_pwl): ConvBnAct(\n",
       "                       (conv): Conv2d(324, 77, kernel_size=(1, 1), stride=(1, 1), bias=False)\n",
       "                       (bn): BatchNormAct2d(77, eps=1e-05, momentum=0.1, affine=True, track_running_stats=True)\n",
       "                     )\n",
       "                   )\n",
       "                   (3): LinearBottleneck(\n",
       "                     (conv_exp): ConvBnAct(\n",
       "                       (conv): Conv2d(77, 462, kernel_size=(1, 1), stride=(1, 1), bias=False)\n",
       "                       (bn): BatchNormAct2d(\n",
       "                         462, eps=1e-05, momentum=0.1, affine=True, track_running_stats=True\n",
       "                         (act): SiLU(inplace=True)\n",
       "                       )\n",
       "                     )\n",
       "                     (conv_dw): ConvBnAct(\n",
       "                       (conv): Conv2d(462, 462, kernel_size=(3, 3), stride=(2, 2), padding=(1, 1), groups=462, bias=False)\n",
       "                       (bn): BatchNormAct2d(462, eps=1e-05, momentum=0.1, affine=True, track_running_stats=True)\n",
       "                     )\n",
       "                     (se): SEWithNorm(\n",
       "                       (fc1): Conv2d(462, 38, kernel_size=(1, 1), stride=(1, 1))\n",
       "                       (bn): BatchNorm2d(38, eps=1e-05, momentum=0.1, affine=True, track_running_stats=True)\n",
       "                       (act): ReLU(inplace=True)\n",
       "                       (fc2): Conv2d(38, 462, kernel_size=(1, 1), stride=(1, 1))\n",
       "                       (gate): Sigmoid()\n",
       "                     )\n",
       "                     (act_dw): ReLU6()\n",
       "                     (conv_pwl): ConvBnAct(\n",
       "                       (conv): Conv2d(462, 100, kernel_size=(1, 1), stride=(1, 1), bias=False)\n",
       "                       (bn): BatchNormAct2d(100, eps=1e-05, momentum=0.1, affine=True, track_running_stats=True)\n",
       "                     )\n",
       "                   )\n",
       "                   (4): LinearBottleneck(\n",
       "                     (conv_exp): ConvBnAct(\n",
       "                       (conv): Conv2d(100, 600, kernel_size=(1, 1), stride=(1, 1), bias=False)\n",
       "                       (bn): BatchNormAct2d(\n",
       "                         600, eps=1e-05, momentum=0.1, affine=True, track_running_stats=True\n",
       "                         (act): SiLU(inplace=True)\n",
       "                       )\n",
       "                     )\n",
       "                     (conv_dw): ConvBnAct(\n",
       "                       (conv): Conv2d(600, 600, kernel_size=(3, 3), stride=(1, 1), padding=(1, 1), groups=600, bias=False)\n",
       "                       (bn): BatchNormAct2d(600, eps=1e-05, momentum=0.1, affine=True, track_running_stats=True)\n",
       "                     )\n",
       "                     (se): SEWithNorm(\n",
       "                       (fc1): Conv2d(600, 50, kernel_size=(1, 1), stride=(1, 1))\n",
       "                       (bn): BatchNorm2d(50, eps=1e-05, momentum=0.1, affine=True, track_running_stats=True)\n",
       "                       (act): ReLU(inplace=True)\n",
       "                       (fc2): Conv2d(50, 600, kernel_size=(1, 1), stride=(1, 1))\n",
       "                       (gate): Sigmoid()\n",
       "                     )\n",
       "                     (act_dw): ReLU6()\n",
       "                     (conv_pwl): ConvBnAct(\n",
       "                       (conv): Conv2d(600, 122, kernel_size=(1, 1), stride=(1, 1), bias=False)\n",
       "                       (bn): BatchNormAct2d(122, eps=1e-05, momentum=0.1, affine=True, track_running_stats=True)\n",
       "                     )\n",
       "                   )\n",
       "                   (5): LinearBottleneck(\n",
       "                     (conv_exp): ConvBnAct(\n",
       "                       (conv): Conv2d(122, 732, kernel_size=(1, 1), stride=(1, 1), bias=False)\n",
       "                       (bn): BatchNormAct2d(\n",
       "                         732, eps=1e-05, momentum=0.1, affine=True, track_running_stats=True\n",
       "                         (act): SiLU(inplace=True)\n",
       "                       )\n",
       "                     )\n",
       "                     (conv_dw): ConvBnAct(\n",
       "                       (conv): Conv2d(732, 732, kernel_size=(3, 3), stride=(2, 2), padding=(1, 1), groups=732, bias=False)\n",
       "                       (bn): BatchNormAct2d(732, eps=1e-05, momentum=0.1, affine=True, track_running_stats=True)\n",
       "                     )\n",
       "                     (se): SEWithNorm(\n",
       "                       (fc1): Conv2d(732, 61, kernel_size=(1, 1), stride=(1, 1))\n",
       "                       (bn): BatchNorm2d(61, eps=1e-05, momentum=0.1, affine=True, track_running_stats=True)\n",
       "                       (act): ReLU(inplace=True)\n",
       "                       (fc2): Conv2d(61, 732, kernel_size=(1, 1), stride=(1, 1))\n",
       "                       (gate): Sigmoid()\n",
       "                     )\n",
       "                     (act_dw): ReLU6()\n",
       "                     (conv_pwl): ConvBnAct(\n",
       "                       (conv): Conv2d(732, 144, kernel_size=(1, 1), stride=(1, 1), bias=False)\n",
       "                       (bn): BatchNormAct2d(144, eps=1e-05, momentum=0.1, affine=True, track_running_stats=True)\n",
       "                     )\n",
       "                   )\n",
       "                   (6): LinearBottleneck(\n",
       "                     (conv_exp): ConvBnAct(\n",
       "                       (conv): Conv2d(144, 864, kernel_size=(1, 1), stride=(1, 1), bias=False)\n",
       "                       (bn): BatchNormAct2d(\n",
       "                         864, eps=1e-05, momentum=0.1, affine=True, track_running_stats=True\n",
       "                         (act): SiLU(inplace=True)\n",
       "                       )\n",
       "                     )\n",
       "                     (conv_dw): ConvBnAct(\n",
       "                       (conv): Conv2d(864, 864, kernel_size=(3, 3), stride=(1, 1), padding=(1, 1), groups=864, bias=False)\n",
       "                       (bn): BatchNormAct2d(864, eps=1e-05, momentum=0.1, affine=True, track_running_stats=True)\n",
       "                     )\n",
       "                     (se): SEWithNorm(\n",
       "                       (fc1): Conv2d(864, 72, kernel_size=(1, 1), stride=(1, 1))\n",
       "                       (bn): BatchNorm2d(72, eps=1e-05, momentum=0.1, affine=True, track_running_stats=True)\n",
       "                       (act): ReLU(inplace=True)\n",
       "                       (fc2): Conv2d(72, 864, kernel_size=(1, 1), stride=(1, 1))\n",
       "                       (gate): Sigmoid()\n",
       "                     )\n",
       "                     (act_dw): ReLU6()\n",
       "                     (conv_pwl): ConvBnAct(\n",
       "                       (conv): Conv2d(864, 167, kernel_size=(1, 1), stride=(1, 1), bias=False)\n",
       "                       (bn): BatchNormAct2d(167, eps=1e-05, momentum=0.1, affine=True, track_running_stats=True)\n",
       "                     )\n",
       "                   )\n",
       "                   (7): LinearBottleneck(\n",
       "                     (conv_exp): ConvBnAct(\n",
       "                       (conv): Conv2d(167, 1002, kernel_size=(1, 1), stride=(1, 1), bias=False)\n",
       "                       (bn): BatchNormAct2d(\n",
       "                         1002, eps=1e-05, momentum=0.1, affine=True, track_running_stats=True\n",
       "                         (act): SiLU(inplace=True)\n",
       "                       )\n",
       "                     )\n",
       "                     (conv_dw): ConvBnAct(\n",
       "                       (conv): Conv2d(1002, 1002, kernel_size=(3, 3), stride=(1, 1), padding=(1, 1), groups=1002, bias=False)\n",
       "                       (bn): BatchNormAct2d(1002, eps=1e-05, momentum=0.1, affine=True, track_running_stats=True)\n",
       "                     )\n",
       "                     (se): SEWithNorm(\n",
       "                       (fc1): Conv2d(1002, 83, kernel_size=(1, 1), stride=(1, 1))\n",
       "                       (bn): BatchNorm2d(83, eps=1e-05, momentum=0.1, affine=True, track_running_stats=True)\n",
       "                       (act): ReLU(inplace=True)\n",
       "                       (fc2): Conv2d(83, 1002, kernel_size=(1, 1), stride=(1, 1))\n",
       "                       (gate): Sigmoid()\n",
       "                     )\n",
       "                     (act_dw): ReLU6()\n",
       "                     (conv_pwl): ConvBnAct(\n",
       "                       (conv): Conv2d(1002, 190, kernel_size=(1, 1), stride=(1, 1), bias=False)\n",
       "                       (bn): BatchNormAct2d(190, eps=1e-05, momentum=0.1, affine=True, track_running_stats=True)\n",
       "                     )\n",
       "                   )\n",
       "                   (8): LinearBottleneck(\n",
       "                     (conv_exp): ConvBnAct(\n",
       "                       (conv): Conv2d(190, 1140, kernel_size=(1, 1), stride=(1, 1), bias=False)\n",
       "                       (bn): BatchNormAct2d(\n",
       "                         1140, eps=1e-05, momentum=0.1, affine=True, track_running_stats=True\n",
       "                         (act): SiLU(inplace=True)\n",
       "                       )\n",
       "                     )\n",
       "                     (conv_dw): ConvBnAct(\n",
       "                       (conv): Conv2d(1140, 1140, kernel_size=(3, 3), stride=(1, 1), padding=(1, 1), groups=1140, bias=False)\n",
       "                       (bn): BatchNormAct2d(1140, eps=1e-05, momentum=0.1, affine=True, track_running_stats=True)\n",
       "                     )\n",
       "                     (se): SEWithNorm(\n",
       "                       (fc1): Conv2d(1140, 95, kernel_size=(1, 1), stride=(1, 1))\n",
       "                       (bn): BatchNorm2d(95, eps=1e-05, momentum=0.1, affine=True, track_running_stats=True)\n",
       "                       (act): ReLU(inplace=True)\n",
       "                       (fc2): Conv2d(95, 1140, kernel_size=(1, 1), stride=(1, 1))\n",
       "                       (gate): Sigmoid()\n",
       "                     )\n",
       "                     (act_dw): ReLU6()\n",
       "                     (conv_pwl): ConvBnAct(\n",
       "                       (conv): Conv2d(1140, 212, kernel_size=(1, 1), stride=(1, 1), bias=False)\n",
       "                       (bn): BatchNormAct2d(212, eps=1e-05, momentum=0.1, affine=True, track_running_stats=True)\n",
       "                     )\n",
       "                   )\n",
       "                   (9): LinearBottleneck(\n",
       "                     (conv_exp): ConvBnAct(\n",
       "                       (conv): Conv2d(212, 1272, kernel_size=(1, 1), stride=(1, 1), bias=False)\n",
       "                       (bn): BatchNormAct2d(\n",
       "                         1272, eps=1e-05, momentum=0.1, affine=True, track_running_stats=True\n",
       "                         (act): SiLU(inplace=True)\n",
       "                       )\n",
       "                     )\n",
       "                     (conv_dw): ConvBnAct(\n",
       "                       (conv): Conv2d(1272, 1272, kernel_size=(3, 3), stride=(1, 1), padding=(1, 1), groups=1272, bias=False)\n",
       "                       (bn): BatchNormAct2d(1272, eps=1e-05, momentum=0.1, affine=True, track_running_stats=True)\n",
       "                     )\n",
       "                     (se): SEWithNorm(\n",
       "                       (fc1): Conv2d(1272, 106, kernel_size=(1, 1), stride=(1, 1))\n",
       "                       (bn): BatchNorm2d(106, eps=1e-05, momentum=0.1, affine=True, track_running_stats=True)\n",
       "                       (act): ReLU(inplace=True)\n",
       "                       (fc2): Conv2d(106, 1272, kernel_size=(1, 1), stride=(1, 1))\n",
       "                       (gate): Sigmoid()\n",
       "                     )\n",
       "                     (act_dw): ReLU6()\n",
       "                     (conv_pwl): ConvBnAct(\n",
       "                       (conv): Conv2d(1272, 234, kernel_size=(1, 1), stride=(1, 1), bias=False)\n",
       "                       (bn): BatchNormAct2d(234, eps=1e-05, momentum=0.1, affine=True, track_running_stats=True)\n",
       "                     )\n",
       "                   )\n",
       "                   (10): LinearBottleneck(\n",
       "                     (conv_exp): ConvBnAct(\n",
       "                       (conv): Conv2d(234, 1404, kernel_size=(1, 1), stride=(1, 1), bias=False)\n",
       "                       (bn): BatchNormAct2d(\n",
       "                         1404, eps=1e-05, momentum=0.1, affine=True, track_running_stats=True\n",
       "                         (act): SiLU(inplace=True)\n",
       "                       )\n",
       "                     )\n",
       "                     (conv_dw): ConvBnAct(\n",
       "                       (conv): Conv2d(1404, 1404, kernel_size=(3, 3), stride=(1, 1), padding=(1, 1), groups=1404, bias=False)\n",
       "                       (bn): BatchNormAct2d(1404, eps=1e-05, momentum=0.1, affine=True, track_running_stats=True)\n",
       "                     )\n",
       "                     (se): SEWithNorm(\n",
       "                       (fc1): Conv2d(1404, 117, kernel_size=(1, 1), stride=(1, 1))\n",
       "                       (bn): BatchNorm2d(117, eps=1e-05, momentum=0.1, affine=True, track_running_stats=True)\n",
       "                       (act): ReLU(inplace=True)\n",
       "                       (fc2): Conv2d(117, 1404, kernel_size=(1, 1), stride=(1, 1))\n",
       "                       (gate): Sigmoid()\n",
       "                     )\n",
       "                     (act_dw): ReLU6()\n",
       "                     (conv_pwl): ConvBnAct(\n",
       "                       (conv): Conv2d(1404, 257, kernel_size=(1, 1), stride=(1, 1), bias=False)\n",
       "                       (bn): BatchNormAct2d(257, eps=1e-05, momentum=0.1, affine=True, track_running_stats=True)\n",
       "                     )\n",
       "                   )\n",
       "                   (11): LinearBottleneck(\n",
       "                     (conv_exp): ConvBnAct(\n",
       "                       (conv): Conv2d(257, 1542, kernel_size=(1, 1), stride=(1, 1), bias=False)\n",
       "                       (bn): BatchNormAct2d(\n",
       "                         1542, eps=1e-05, momentum=0.1, affine=True, track_running_stats=True\n",
       "                         (act): SiLU(inplace=True)\n",
       "                       )\n",
       "                     )\n",
       "                     (conv_dw): ConvBnAct(\n",
       "                       (conv): Conv2d(1542, 1542, kernel_size=(3, 3), stride=(2, 2), padding=(1, 1), groups=1542, bias=False)\n",
       "                       (bn): BatchNormAct2d(1542, eps=1e-05, momentum=0.1, affine=True, track_running_stats=True)\n",
       "                     )\n",
       "                     (se): SEWithNorm(\n",
       "                       (fc1): Conv2d(1542, 128, kernel_size=(1, 1), stride=(1, 1))\n",
       "                       (bn): BatchNorm2d(128, eps=1e-05, momentum=0.1, affine=True, track_running_stats=True)\n",
       "                       (act): ReLU(inplace=True)\n",
       "                       (fc2): Conv2d(128, 1542, kernel_size=(1, 1), stride=(1, 1))\n",
       "                       (gate): Sigmoid()\n",
       "                     )\n",
       "                     (act_dw): ReLU6()\n",
       "                     (conv_pwl): ConvBnAct(\n",
       "                       (conv): Conv2d(1542, 280, kernel_size=(1, 1), stride=(1, 1), bias=False)\n",
       "                       (bn): BatchNormAct2d(280, eps=1e-05, momentum=0.1, affine=True, track_running_stats=True)\n",
       "                     )\n",
       "                   )\n",
       "                   (12): LinearBottleneck(\n",
       "                     (conv_exp): ConvBnAct(\n",
       "                       (conv): Conv2d(280, 1680, kernel_size=(1, 1), stride=(1, 1), bias=False)\n",
       "                       (bn): BatchNormAct2d(\n",
       "                         1680, eps=1e-05, momentum=0.1, affine=True, track_running_stats=True\n",
       "                         (act): SiLU(inplace=True)\n",
       "                       )\n",
       "                     )\n",
       "                     (conv_dw): ConvBnAct(\n",
       "                       (conv): Conv2d(1680, 1680, kernel_size=(3, 3), stride=(1, 1), padding=(1, 1), groups=1680, bias=False)\n",
       "                       (bn): BatchNormAct2d(1680, eps=1e-05, momentum=0.1, affine=True, track_running_stats=True)\n",
       "                     )\n",
       "                     (se): SEWithNorm(\n",
       "                       (fc1): Conv2d(1680, 140, kernel_size=(1, 1), stride=(1, 1))\n",
       "                       (bn): BatchNorm2d(140, eps=1e-05, momentum=0.1, affine=True, track_running_stats=True)\n",
       "                       (act): ReLU(inplace=True)\n",
       "                       (fc2): Conv2d(140, 1680, kernel_size=(1, 1), stride=(1, 1))\n",
       "                       (gate): Sigmoid()\n",
       "                     )\n",
       "                     (act_dw): ReLU6()\n",
       "                     (conv_pwl): ConvBnAct(\n",
       "                       (conv): Conv2d(1680, 302, kernel_size=(1, 1), stride=(1, 1), bias=False)\n",
       "                       (bn): BatchNormAct2d(302, eps=1e-05, momentum=0.1, affine=True, track_running_stats=True)\n",
       "                     )\n",
       "                   )\n",
       "                   (13): LinearBottleneck(\n",
       "                     (conv_exp): ConvBnAct(\n",
       "                       (conv): Conv2d(302, 1812, kernel_size=(1, 1), stride=(1, 1), bias=False)\n",
       "                       (bn): BatchNormAct2d(\n",
       "                         1812, eps=1e-05, momentum=0.1, affine=True, track_running_stats=True\n",
       "                         (act): SiLU(inplace=True)\n",
       "                       )\n",
       "                     )\n",
       "                     (conv_dw): ConvBnAct(\n",
       "                       (conv): Conv2d(1812, 1812, kernel_size=(3, 3), stride=(1, 1), padding=(1, 1), groups=1812, bias=False)\n",
       "                       (bn): BatchNormAct2d(1812, eps=1e-05, momentum=0.1, affine=True, track_running_stats=True)\n",
       "                     )\n",
       "                     (se): SEWithNorm(\n",
       "                       (fc1): Conv2d(1812, 151, kernel_size=(1, 1), stride=(1, 1))\n",
       "                       (bn): BatchNorm2d(151, eps=1e-05, momentum=0.1, affine=True, track_running_stats=True)\n",
       "                       (act): ReLU(inplace=True)\n",
       "                       (fc2): Conv2d(151, 1812, kernel_size=(1, 1), stride=(1, 1))\n",
       "                       (gate): Sigmoid()\n",
       "                     )\n",
       "                     (act_dw): ReLU6()\n",
       "                     (conv_pwl): ConvBnAct(\n",
       "                       (conv): Conv2d(1812, 324, kernel_size=(1, 1), stride=(1, 1), bias=False)\n",
       "                       (bn): BatchNormAct2d(324, eps=1e-05, momentum=0.1, affine=True, track_running_stats=True)\n",
       "                     )\n",
       "                   )\n",
       "                   (14): LinearBottleneck(\n",
       "                     (conv_exp): ConvBnAct(\n",
       "                       (conv): Conv2d(324, 1944, kernel_size=(1, 1), stride=(1, 1), bias=False)\n",
       "                       (bn): BatchNormAct2d(\n",
       "                         1944, eps=1e-05, momentum=0.1, affine=True, track_running_stats=True\n",
       "                         (act): SiLU(inplace=True)\n",
       "                       )\n",
       "                     )\n",
       "                     (conv_dw): ConvBnAct(\n",
       "                       (conv): Conv2d(1944, 1944, kernel_size=(3, 3), stride=(1, 1), padding=(1, 1), groups=1944, bias=False)\n",
       "                       (bn): BatchNormAct2d(1944, eps=1e-05, momentum=0.1, affine=True, track_running_stats=True)\n",
       "                     )\n",
       "                     (se): SEWithNorm(\n",
       "                       (fc1): Conv2d(1944, 162, kernel_size=(1, 1), stride=(1, 1))\n",
       "                       (bn): BatchNorm2d(162, eps=1e-05, momentum=0.1, affine=True, track_running_stats=True)\n",
       "                       (act): ReLU(inplace=True)\n",
       "                       (fc2): Conv2d(162, 1944, kernel_size=(1, 1), stride=(1, 1))\n",
       "                       (gate): Sigmoid()\n",
       "                     )\n",
       "                     (act_dw): ReLU6()\n",
       "                     (conv_pwl): ConvBnAct(\n",
       "                       (conv): Conv2d(1944, 347, kernel_size=(1, 1), stride=(1, 1), bias=False)\n",
       "                       (bn): BatchNormAct2d(347, eps=1e-05, momentum=0.1, affine=True, track_running_stats=True)\n",
       "                     )\n",
       "                   )\n",
       "                   (15): LinearBottleneck(\n",
       "                     (conv_exp): ConvBnAct(\n",
       "                       (conv): Conv2d(347, 2082, kernel_size=(1, 1), stride=(1, 1), bias=False)\n",
       "                       (bn): BatchNormAct2d(\n",
       "                         2082, eps=1e-05, momentum=0.1, affine=True, track_running_stats=True\n",
       "                         (act): SiLU(inplace=True)\n",
       "                       )\n",
       "                     )\n",
       "                     (conv_dw): ConvBnAct(\n",
       "                       (conv): Conv2d(2082, 2082, kernel_size=(3, 3), stride=(1, 1), padding=(1, 1), groups=2082, bias=False)\n",
       "                       (bn): BatchNormAct2d(2082, eps=1e-05, momentum=0.1, affine=True, track_running_stats=True)\n",
       "                     )\n",
       "                     (se): SEWithNorm(\n",
       "                       (fc1): Conv2d(2082, 173, kernel_size=(1, 1), stride=(1, 1))\n",
       "                       (bn): BatchNorm2d(173, eps=1e-05, momentum=0.1, affine=True, track_running_stats=True)\n",
       "                       (act): ReLU(inplace=True)\n",
       "                       (fc2): Conv2d(173, 2082, kernel_size=(1, 1), stride=(1, 1))\n",
       "                       (gate): Sigmoid()\n",
       "                     )\n",
       "                     (act_dw): ReLU6()\n",
       "                     (conv_pwl): ConvBnAct(\n",
       "                       (conv): Conv2d(2082, 370, kernel_size=(1, 1), stride=(1, 1), bias=False)\n",
       "                       (bn): BatchNormAct2d(370, eps=1e-05, momentum=0.1, affine=True, track_running_stats=True)\n",
       "                     )\n",
       "                   )\n",
       "                   (16): ConvBnAct(\n",
       "                     (conv): Conv2d(370, 2560, kernel_size=(1, 1), stride=(1, 1), bias=False)\n",
       "                     (bn): BatchNormAct2d(\n",
       "                       2560, eps=1e-05, momentum=0.1, affine=True, track_running_stats=True\n",
       "                       (act): SiLU(inplace=True)\n",
       "                     )\n",
       "                   )\n",
       "                 )\n",
       "                 (head): ClassifierHead(\n",
       "                   (global_pool): SelectAdaptivePool2d (pool_type=avg, flatten=True)\n",
       "                   (fc): Linear(in_features=2560, out_features=11, bias=True)\n",
       "                 )\n",
       "               ))]),\n",
       " '_dtype': torch.float32,\n",
       " '_device': device(type='cuda'),\n",
       " 'exp_save_path': None,\n",
       " 'loaded_optimizer_states_dict': {},\n",
       " 'trainer': None,\n",
       " '_distrib_type': None,\n",
       " '_device_type': None,\n",
       " 'use_amp': False,\n",
       " 'precision': 32,\n",
       " '_example_input_array': None,\n",
       " '_datamodule': None,\n",
       " '_results': None,\n",
       " '_current_fx_name': '',\n",
       " '_running_manual_backward': False,\n",
       " '_current_hook_fx_name': None,\n",
       " '_current_dataloader_idx': None,\n",
       " 'running_stage': None,\n",
       " '_automatic_optimization': True,\n",
       " '_hparams_name': 'kwargs',\n",
       " '_hparams': \"arch\":            rexnet_200\n",
       " \"aug\":             baseline\n",
       " \"auto_batch_size\": True\n",
       " \"auto_lr\":         False\n",
       " \"batch_size\":      12\n",
       " \"epochs\":          1\n",
       " \"fold\":            0\n",
       " \"in_channels\":     1\n",
       " \"label_smoothing\": 0.05\n",
       " \"loss\":            bce_with_logits\n",
       " \"lr\":              0.1\n",
       " \"metric\":          multilabel_auc_macro\n",
       " \"mom\":             0.9\n",
       " \"num_classes\":     11\n",
       " \"opt\":             sam\n",
       " \"precision\":       32\n",
       " \"pretrained\":      True\n",
       " \"sched\":           onecycle\n",
       " \"sz\":              512\n",
       " \"test_data\":       /kaggle/input/ranzcr-clip-catheter-line-classification/test\n",
       " \"train_data\":      /kaggle/input/ranzcr-images/train_1024\n",
       " \"wd\":              0.0001,\n",
       " '_hparams_initial': \"arch\":            rexnet_200\n",
       " \"aug\":             baseline\n",
       " \"auto_batch_size\": True\n",
       " \"auto_lr\":         False\n",
       " \"batch_size\":      12\n",
       " \"epochs\":          1\n",
       " \"fold\":            0\n",
       " \"in_channels\":     1\n",
       " \"label_smoothing\": 0.05\n",
       " \"loss\":            bce_with_logits\n",
       " \"lr\":              0.1\n",
       " \"metric\":          multilabel_auc_macro\n",
       " \"mom\":             0.9\n",
       " \"num_classes\":     11\n",
       " \"opt\":             sam\n",
       " \"precision\":       32\n",
       " \"pretrained\":      True\n",
       " \"sched\":           onecycle\n",
       " \"sz\":              512\n",
       " \"test_data\":       /kaggle/input/ranzcr-clip-catheter-line-classification/test\n",
       " \"train_data\":      /kaggle/input/ranzcr-images/train_1024\n",
       " \"wd\":              0.0001,\n",
       " 'best_train_metric': None,\n",
       " 'best_valid_metric': None}"
      ]
     },
     "execution_count": 11,
     "metadata": {},
     "output_type": "execute_result"
    }
   ],
   "source": [
    "pretrained_model.__dict__"
   ]
  },
  {
   "cell_type": "code",
   "execution_count": null,
   "id": "turkish-distributor",
   "metadata": {},
   "outputs": [],
   "source": []
  }
 ],
 "metadata": {
  "kernelspec": {
   "display_name": "Python 3",
   "language": "python",
   "name": "python3"
  },
  "language_info": {
   "codemirror_mode": {
    "name": "ipython",
    "version": 3
   },
   "file_extension": ".py",
   "mimetype": "text/x-python",
   "name": "python",
   "nbconvert_exporter": "python",
   "pygments_lexer": "ipython3",
   "version": "3.7.8"
  }
 },
 "nbformat": 4,
 "nbformat_minor": 5
}
