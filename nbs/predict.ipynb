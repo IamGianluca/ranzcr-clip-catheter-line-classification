{
 "cells": [
  {
   "cell_type": "code",
   "execution_count": 1,
   "id": "expensive-lloyd",
   "metadata": {},
   "outputs": [],
   "source": [
    "import argparse\n",
    "import copy\n",
    "from pathlib import Path\n",
    "\n",
    "import numpy as np\n",
    "import pandas as pd\n",
    "import torch\n",
    "from sklearn.metrics import roc_auc_score\n",
    "\n",
    "from ml import learner, data\n",
    "from ml.vision import utils\n",
    "from pipe import constants, augmentations"
   ]
  },
  {
   "cell_type": "markdown",
   "id": "nasty-virgin",
   "metadata": {},
   "source": [
    "## Load  and validate"
   ]
  },
  {
   "cell_type": "code",
   "execution_count": 2,
   "id": "applied-death",
   "metadata": {},
   "outputs": [],
   "source": [
    "test = pd.read_csv(constants.sample_submission_fpath)\n",
    "train = pd.read_csv(constants.train_folds_fpath)"
   ]
  },
  {
   "cell_type": "code",
   "execution_count": 3,
   "id": "moved-exception",
   "metadata": {},
   "outputs": [
    {
     "data": {
      "text/plain": [
       "[PosixPath('/home/gianluca/git/kaggle/ranzcr/data/test_256/1.2.826.0.1.3680043.8.498.46923145579096002617106567297135160932.jpg'),\n",
       " PosixPath('/home/gianluca/git/kaggle/ranzcr/data/test_256/1.2.826.0.1.3680043.8.498.84006870182611080091824109767561564887.jpg'),\n",
       " PosixPath('/home/gianluca/git/kaggle/ranzcr/data/test_256/1.2.826.0.1.3680043.8.498.12219033294413119947515494720687541672.jpg'),\n",
       " PosixPath('/home/gianluca/git/kaggle/ranzcr/data/test_256/1.2.826.0.1.3680043.8.498.84994474380235968109906845540706092671.jpg'),\n",
       " PosixPath('/home/gianluca/git/kaggle/ranzcr/data/test_256/1.2.826.0.1.3680043.8.498.35798987793805669662572108881745201372.jpg')]"
      ]
     },
     "execution_count": 3,
     "metadata": {},
     "output_type": "execute_result"
    }
   ],
   "source": [
    "test_image_paths = [\n",
    "    constants.data_path / f\"test_256/{x}.jpg\" for x in test.StudyInstanceUID.values\n",
    "]\n",
    "test_image_paths[:5]"
   ]
  },
  {
   "cell_type": "code",
   "execution_count": 4,
   "id": "final-press",
   "metadata": {},
   "outputs": [
    {
     "data": {
      "text/plain": [
       "[PosixPath('/home/gianluca/git/kaggle/ranzcr/data/train_256/1.2.826.0.1.3680043.8.498.10980236531551060314989711662517682573.jpg'),\n",
       " PosixPath('/home/gianluca/git/kaggle/ranzcr/data/train_256/1.2.826.0.1.3680043.8.498.31644041654883936177483097186069054689.jpg'),\n",
       " PosixPath('/home/gianluca/git/kaggle/ranzcr/data/train_256/1.2.826.0.1.3680043.8.498.92698499133241834162015009420418179750.jpg'),\n",
       " PosixPath('/home/gianluca/git/kaggle/ranzcr/data/train_256/1.2.826.0.1.3680043.8.498.10069138128460654269681788885297696718.jpg'),\n",
       " PosixPath('/home/gianluca/git/kaggle/ranzcr/data/train_256/1.2.826.0.1.3680043.8.498.10994992736051720791598262985362954566.jpg')]"
      ]
     },
     "execution_count": 4,
     "metadata": {},
     "output_type": "execute_result"
    }
   ],
   "source": [
    "train_image_paths = [\n",
    "    constants.data_path / f\"train_256/{x}.jpg\" for x in train.StudyInstanceUID.values\n",
    "]\n",
    "train_image_paths[:5]"
   ]
  },
  {
   "cell_type": "markdown",
   "id": "dominant-triangle",
   "metadata": {},
   "source": [
    "## Predict on training set"
   ]
  },
  {
   "cell_type": "code",
   "execution_count": 5,
   "id": "existing-ethernet",
   "metadata": {},
   "outputs": [],
   "source": [
    "checkpoint_path = Path('../models/arch=resnest14d_sz=128_fold=0.ckpt')\n",
    "pretrained_model = learner.ImageClassifier.load_from_checkpoint(\n",
    "    checkpoint_path, in_channels=1, num_classes=11\n",
    ")\n",
    "pretrained_model.freeze()"
   ]
  },
  {
   "cell_type": "code",
   "execution_count": 6,
   "id": "moved-exploration",
   "metadata": {},
   "outputs": [
    {
     "data": {
      "text/plain": [
       "ETT - Abnormal                0.003287\n",
       "ETT - Borderline              0.056802\n",
       "ETT - Normal                  0.229722\n",
       "NGT - Abnormal                0.007696\n",
       "NGT - Borderline              0.013912\n",
       "NGT - Incompletely Imaged     0.082583\n",
       "NGT - Normal                  0.158254\n",
       "CVC - Abnormal                0.092647\n",
       "CVC - Borderline              0.255826\n",
       "CVC - Normal                  0.774290\n",
       "Swan Ganz Catheter Present    0.028722\n",
       "dtype: float64"
      ]
     },
     "execution_count": 6,
     "metadata": {},
     "output_type": "execute_result"
    }
   ],
   "source": [
    "hparams = argparse.Namespace(\n",
    "    arch='resnest14d',\n",
    "    sz=128,\n",
    "    test_data=Path('../data/train_256'),\n",
    "    aug='baseline'\n",
    ")\n",
    "\n",
    "train_aug, valid_aug, test_aug = augmentations.augmentations_factory(hparams)\n",
    "\n",
    "dm = data.ImageDataModule(\n",
    "    batch_size=256,\n",
    "    test_image_paths=train_image_paths,\n",
    "    test_augmentations=test_aug,\n",
    ")\n",
    "dm.setup()\n",
    "\n",
    "outs = list(pretrained_model.predict_proba(dm.test_dataloader))\n",
    "preds = np.vstack(outs)\n",
    "\n",
    "train_preds = copy.copy(train)\n",
    "train_preds[constants.target_cols] = preds\n",
    "train_preds[constants.target_cols].mean()"
   ]
  },
  {
   "cell_type": "markdown",
   "id": "lucky-narrative",
   "metadata": {},
   "source": [
    "## Predict on test set"
   ]
  },
  {
   "cell_type": "code",
   "execution_count": 7,
   "id": "hairy-thanksgiving",
   "metadata": {},
   "outputs": [
    {
     "data": {
      "text/plain": [
       "ETT - Abnormal                0.001467\n",
       "ETT - Borderline              0.023831\n",
       "ETT - Normal                  0.106803\n",
       "NGT - Abnormal                0.004306\n",
       "NGT - Borderline              0.008315\n",
       "NGT - Incompletely Imaged     0.037123\n",
       "NGT - Normal                  0.073400\n",
       "CVC - Abnormal                0.069812\n",
       "CVC - Borderline              0.241402\n",
       "CVC - Normal                  0.767635\n",
       "Swan Ganz Catheter Present    0.012354\n",
       "dtype: float64"
      ]
     },
     "execution_count": 7,
     "metadata": {},
     "output_type": "execute_result"
    }
   ],
   "source": [
    "hparams = argparse.Namespace(\n",
    "    arch='resnest14d',\n",
    "    sz=128,\n",
    "    test_data=Path('../data/test_256'),\n",
    "    aug='baseline'\n",
    ")\n",
    "\n",
    "train_aug, valid_aug, test_aug = augmentations.augmentations_factory(hparams)\n",
    "\n",
    "dm = data.ImageDataModule(\n",
    "    batch_size=256,\n",
    "    test_image_paths=test_image_paths,\n",
    "    test_augmentations=test_aug,\n",
    ")\n",
    "dm.setup()\n",
    "\n",
    "outs = list(pretrained_model.predict_proba(dm.test_dataloader))\n",
    "preds = np.vstack(outs)\n",
    "\n",
    "test_preds = copy.copy(test)\n",
    "test_preds[constants.target_cols] = preds\n",
    "test_preds[constants.target_cols].mean()"
   ]
  },
  {
   "cell_type": "markdown",
   "id": "expensive-visibility",
   "metadata": {},
   "source": [
    "## Train target distribution"
   ]
  },
  {
   "cell_type": "code",
   "execution_count": 8,
   "id": "informed-trunk",
   "metadata": {},
   "outputs": [
    {
     "data": {
      "text/plain": [
       "ETT - Abnormal                0.002626\n",
       "ETT - Borderline              0.037829\n",
       "ETT - Normal                  0.240667\n",
       "NGT - Abnormal                0.009274\n",
       "NGT - Borderline              0.017585\n",
       "NGT - Incompletely Imaged     0.091347\n",
       "NGT - Normal                  0.159459\n",
       "CVC - Abnormal                0.106206\n",
       "CVC - Borderline              0.281222\n",
       "CVC - Normal                  0.708839\n",
       "Swan Ganz Catheter Present    0.027590\n",
       "dtype: float64"
      ]
     },
     "execution_count": 8,
     "metadata": {},
     "output_type": "execute_result"
    }
   ],
   "source": [
    "train[constants.target_cols].mean()"
   ]
  },
  {
   "cell_type": "code",
   "execution_count": null,
   "id": "artificial-psychology",
   "metadata": {},
   "outputs": [],
   "source": []
  }
 ],
 "metadata": {
  "kernelspec": {
   "display_name": "Python 3",
   "language": "python",
   "name": "python3"
  },
  "language_info": {
   "codemirror_mode": {
    "name": "ipython",
    "version": 3
   },
   "file_extension": ".py",
   "mimetype": "text/x-python",
   "name": "python",
   "nbconvert_exporter": "python",
   "pygments_lexer": "ipython3",
   "version": "3.7.8"
  }
 },
 "nbformat": 4,
 "nbformat_minor": 5
}
