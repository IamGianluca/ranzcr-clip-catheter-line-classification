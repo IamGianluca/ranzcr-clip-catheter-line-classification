{
 "cells": [
  {
   "cell_type": "code",
   "execution_count": 1,
   "id": "satisfied-childhood",
   "metadata": {},
   "outputs": [],
   "source": [
    "import argparse\n",
    "import copy\n",
    "from pathlib import Path\n",
    "\n",
    "import matplotlib.pyplot as plt\n",
    "import numpy as np\n",
    "import pandas as pd\n",
    "import pytorch_lightning as pl\n",
    "import torch\n",
    "from sklearn.metrics import roc_auc_score\n",
    "\n",
    "from ml import learner, data\n",
    "from ml.vision import utils\n",
    "from pipe import constants, augmentations"
   ]
  },
  {
   "cell_type": "code",
   "execution_count": 2,
   "id": "static-contrast",
   "metadata": {},
   "outputs": [],
   "source": [
    "train = pd.read_csv(constants.train_folds_fpath)\n",
    "train_df = train[train.kfold != 0].reset_index()\n",
    "valid_df = train[train.kfold == 0].reset_index()"
   ]
  },
  {
   "cell_type": "code",
   "execution_count": 3,
   "id": "caring-congress",
   "metadata": {},
   "outputs": [
    {
     "data": {
      "text/plain": [
       "[PosixPath('/home/gianluca/git/kaggle/ranzcr/data/train_1024/1.2.826.0.1.3680043.8.498.10980236531551060314989711662517682573.jpg'),\n",
       " PosixPath('/home/gianluca/git/kaggle/ranzcr/data/train_1024/1.2.826.0.1.3680043.8.498.31644041654883936177483097186069054689.jpg'),\n",
       " PosixPath('/home/gianluca/git/kaggle/ranzcr/data/train_1024/1.2.826.0.1.3680043.8.498.92698499133241834162015009420418179750.jpg'),\n",
       " PosixPath('/home/gianluca/git/kaggle/ranzcr/data/train_1024/1.2.826.0.1.3680043.8.498.10069138128460654269681788885297696718.jpg'),\n",
       " PosixPath('/home/gianluca/git/kaggle/ranzcr/data/train_1024/1.2.826.0.1.3680043.8.498.10994992736051720791598262985362954566.jpg')]"
      ]
     },
     "execution_count": 3,
     "metadata": {},
     "output_type": "execute_result"
    }
   ],
   "source": [
    "train_image_paths = [\n",
    "    constants.data_path / f\"train_1024/{x}.jpg\" for x in train_df.StudyInstanceUID.values\n",
    "]\n",
    "train_image_paths[:5]"
   ]
  },
  {
   "cell_type": "code",
   "execution_count": 4,
   "id": "premium-earthquake",
   "metadata": {},
   "outputs": [
    {
     "data": {
      "text/plain": [
       "[PosixPath('/home/gianluca/git/kaggle/ranzcr/data/train_1024/1.2.826.0.1.3680043.8.498.46532475818207697815838596694519250331.jpg'),\n",
       " PosixPath('/home/gianluca/git/kaggle/ranzcr/data/train_1024/1.2.826.0.1.3680043.8.498.71220172190076666584059125496194010134.jpg'),\n",
       " PosixPath('/home/gianluca/git/kaggle/ranzcr/data/train_1024/1.2.826.0.1.3680043.8.498.13129310403067333749186320526401448292.jpg'),\n",
       " PosixPath('/home/gianluca/git/kaggle/ranzcr/data/train_1024/1.2.826.0.1.3680043.8.498.61241754699149924369695429405706068683.jpg'),\n",
       " PosixPath('/home/gianluca/git/kaggle/ranzcr/data/train_1024/1.2.826.0.1.3680043.8.498.13200337440685816759054494914508184724.jpg')]"
      ]
     },
     "execution_count": 4,
     "metadata": {},
     "output_type": "execute_result"
    }
   ],
   "source": [
    "valid_image_paths = [\n",
    "    constants.data_path / f\"train_1024/{x}.jpg\" for x in valid_df.StudyInstanceUID.values\n",
    "]\n",
    "valid_image_paths[:5]"
   ]
  },
  {
   "cell_type": "code",
   "execution_count": 5,
   "id": "hollywood-intelligence",
   "metadata": {},
   "outputs": [],
   "source": [
    "train_targets = train_df.loc[:, constants.target_cols].values\n",
    "valid_targets = valid_df.loc[:, constants.target_cols].values"
   ]
  },
  {
   "cell_type": "code",
   "execution_count": 6,
   "id": "basic-luther",
   "metadata": {},
   "outputs": [],
   "source": [
    "hparams = argparse.Namespace(\n",
    "    arch='resnest200e',\n",
    "    sz=512,\n",
    "    batch_size=8,\n",
    "    epochs=15,\n",
    "    lr=0.01,\n",
    "    mom=0.9,\n",
    "    wd=0.00001,\n",
    "    loss='bce_with_logits',\n",
    "    metric='multilabel_auc_macro',\n",
    "    label_smoothing=0.05,\n",
    "    opt='sam',\n",
    "    aug='baseline',\n",
    "    sched='onecycle',\n",
    "    train_data=constants.data_path / 'train_1024',\n",
    "    precision=32,\n",
    ")"
   ]
  },
  {
   "cell_type": "code",
   "execution_count": 7,
   "id": "swiss-maintenance",
   "metadata": {},
   "outputs": [],
   "source": [
    "train_aug, valid_aug, test_aug = augmentations.augmentations_factory(hparams)"
   ]
  },
  {
   "cell_type": "code",
   "execution_count": 8,
   "id": "military-jones",
   "metadata": {},
   "outputs": [],
   "source": [
    "def find_lr():\n",
    "    dm = data.ImageDataModule(\n",
    "        batch_size=hparams.batch_size,\n",
    "        # train\n",
    "        train_image_paths=train_image_paths,\n",
    "        train_targets=train_targets,\n",
    "        train_augmentations=train_aug,\n",
    "        # valid, max_lr\n",
    "        valid_image_paths=valid_image_paths,\n",
    "        valid_targets=valid_targets,\n",
    "        valid_augmentations=valid_aug,\n",
    "    )\n",
    "    dm.setup()\n",
    "    model = learner.ImageClassifier(\n",
    "        in_channels=1,\n",
    "        num_classes=11,\n",
    "        pretrained=True,\n",
    "        **vars(hparams),\n",
    "    )\n",
    "\n",
    "    trainer = pl.Trainer(\n",
    "        gpus=1,\n",
    "        precision=hparams.precision,\n",
    "        max_epochs=hparams.epochs,\n",
    "#         auto_scale_batch_size=True\n",
    "    )\n",
    "\n",
    "    trainer.tune(model, dm)\n",
    "\n",
    "    lr_finder = trainer.tuner.lr_find(model, max_lr=10)\n",
    "\n",
    "    return lr_finder.plot(suggest=True)\n"
   ]
  },
  {
   "cell_type": "code",
   "execution_count": 9,
   "id": "cubic-worship",
   "metadata": {},
   "outputs": [
    {
     "name": "stderr",
     "output_type": "stream",
     "text": [
      "GPU available: True, used: True\n",
      "TPU available: None, using: 0 TPU cores\n",
      "\n",
      "  | Name  | Type   | Params\n",
      "---------------------------------\n",
      "0 | model | ResNet | 68.2 M\n",
      "---------------------------------\n",
      "68.2 M    Trainable params\n",
      "0         Non-trainable params\n",
      "68.2 M    Total params\n",
      "272.696   Total estimated model params size (MB)\n"
     ]
    },
    {
     "data": {
      "application/vnd.jupyter.widget-view+json": {
       "model_id": "d2c0c28643154c128d7de659240e7395",
       "version_major": 2,
       "version_minor": 0
      },
      "text/plain": [
       "Finding best initial lr:   0%|          | 0/100 [00:00<?, ?it/s]"
      ]
     },
     "metadata": {},
     "output_type": "display_data"
    },
    {
     "name": "stderr",
     "output_type": "stream",
     "text": [
      "Restored states from the checkpoint file at /home/gianluca/git/kaggle/ranzcr/nbs/lr_find_temp_model.ckpt\n"
     ]
    },
    {
     "data": {
      "image/png": "[encoded data removed]",
      "text/plain": [
       "<Figure size 432x288 with 1 Axes>"
      ]
     },
     "metadata": {
      "needs_background": "light"
     },
     "output_type": "display_data"
    }
   ],
   "source": [
    "fig = find_lr()\n",
    "fig.show()"
   ]
  },
  {
   "cell_type": "code",
   "execution_count": 13,
   "id": "lonely-grammar",
   "metadata": {},
   "outputs": [
    {
     "name": "stdout",
     "output_type": "stream",
     "text": [
      "Initial LR=0.004, Max LR=0.1, Min LR=1e-05\n"
     ]
    }
   ],
   "source": [
    "max_lr     = 10**-1  # if loss starts diverging after 10**1, choose 10**0\n",
    "initial_lr = max_lr / 25.\n",
    "min_lr     = max_lr / 10_000.\n",
    "\n",
    "print(f\"Initial LR={initial_lr}, Max LR={max_lr}, Min LR={min_lr}\")"
   ]
  },
  {
   "cell_type": "code",
   "execution_count": null,
   "id": "hybrid-bibliography",
   "metadata": {},
   "outputs": [],
   "source": []
  }
 ],
 "metadata": {
  "kernelspec": {
   "display_name": "Python 3",
   "language": "python",
   "name": "python3"
  },
  "language_info": {
   "codemirror_mode": {
    "name": "ipython",
    "version": 3
   },
   "file_extension": ".py",
   "mimetype": "text/x-python",
   "name": "python",
   "nbconvert_exporter": "python",
   "pygments_lexer": "ipython3",
   "version": "3.7.8"
  }
 },
 "nbformat": 4,
 "nbformat_minor": 5
}
